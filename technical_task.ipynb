{
 "cells": [
  {
   "cell_type": "code",
   "execution_count": 1,
   "id": "ca11285c-a261-47c1-9ac3-baa1dbd2b6c8",
   "metadata": {},
   "outputs": [],
   "source": [
    "# impoting libs\n",
    "import pandas as pd\n",
    "import operator\n",
    "from datetime import datetime"
   ]
  },
  {
   "cell_type": "code",
   "execution_count": 2,
   "id": "4dd22bf2-ae8f-437b-9582-fac2dfa6cd27",
   "metadata": {},
   "outputs": [],
   "source": [
    "# read csv files as dataframes\n",
    "movies = pd.read_csv(\"C:\\\\Users\\\\xc\\\\Desktop\\\\movies.csv\")\n",
    "tags = pd.read_csv(\"C:\\\\Users\\\\xc\\\\Desktop\\\\tags.csv\")\n",
    "ratings = pd.read_csv(\"C:\\\\Users\\\\xc\\\\Desktop\\\\ratings.csv\")\n",
    "links = pd.read_csv(\"C:\\\\Users\\\\xc\\\\Desktop\\\\links.csv\")"
   ]
  },
  {
   "cell_type": "code",
   "execution_count": 4,
   "id": "802913fa-8703-4812-a438-6b1efab2258f",
   "metadata": {},
   "outputs": [
    {
     "name": "stdout",
     "output_type": "stream",
     "text": [
      "a) In dataset are 9737 movies. \n",
      "Total positions: 9742, this positions occurred more then once:\n",
      "\tEmma (1996)\n",
      "\tWar of the Worlds (2005)\n",
      "\tConfessions of a Dangerous Mind (2002)\n",
      "\tEros (2004)\n",
      "\tSaturn 3 (1980)\n"
     ]
    }
   ],
   "source": [
    "### a) Amount of unique movies\n",
    "repited_movies = []\n",
    "titles = {}\n",
    "for name in movies['title']:\n",
    "\tif name in titles:\n",
    "\t\ttitles[name] += 1\n",
    "\t\trepited_movies.append(name)\n",
    "\telse:\n",
    "\t\ttitles[name] = 1\n",
    "\n",
    "print(f'a) In dataset are {len(titles)} movies. \\nTotal positions: 9742, this positions occurred more then once:')\n",
    "for m in repited_movies:\n",
    "\tprint(f'\\t{m}')"
   ]
  },
  {
   "cell_type": "code",
   "execution_count": 6,
   "id": "32f3179d-b084-47ce-a1c9-1e2620cae727",
   "metadata": {},
   "outputs": [
    {
     "name": "stdout",
     "output_type": "stream",
     "text": [
      "b) Most popular genre is Drama, occures 4361 times. \n",
      "List of genres:\n",
      "\tAdventure: 1263\n",
      "\tAnimation: 611\n",
      "\tChildren: 664\n",
      "\tComedy: 3756\n",
      "\tFantasy: 779\n",
      "\tRomance: 1596\n",
      "\tDrama: 4361\n",
      "\tAction: 1828\n",
      "\tCrime: 1199\n",
      "\tThriller: 1894\n",
      "\tHorror: 978\n",
      "\tMystery: 573\n",
      "\tSci-Fi: 980\n",
      "\tWar: 382\n",
      "\tMusical: 334\n",
      "\tDocumentary: 440\n",
      "\tIMAX: 158\n",
      "\tWestern: 167\n",
      "\tFilm-Noir: 87\n",
      "\t(no genres listed): 34\n"
     ]
    }
   ],
   "source": [
    "### b) Most common genre\n",
    "genres = {}\n",
    "for name in movies['genres']:\n",
    "\tname = name.split('|')\n",
    "\tfor subname in name:\n",
    "\t\tif subname in genres:\n",
    "\t\t\tgenres[subname] += 1\n",
    "\t\telse:\n",
    "\t\t\tgenres[subname] = 1\n",
    "\n",
    "max_times = 0\n",
    "most_popular = ''\n",
    "for k, v in genres.items():\n",
    "\tif v > max_times:\n",
    "\t\tmax_times = v\n",
    "\t\tmost_popular = k\n",
    "\t\t\n",
    "print(f'b) Most popular genre is {most_popular}, occures {max_times} times. \\nList of genres:')\n",
    "for k, v in genres.items():\n",
    "\tprint(f'\\t{k}: {v}')"
   ]
  },
  {
   "cell_type": "code",
   "execution_count": 9,
   "id": "e41aa4c6-facb-4fc9-b0fb-b734216aad49",
   "metadata": {},
   "outputs": [
    {
     "name": "stdout",
     "output_type": "stream",
     "text": [
      "\n",
      "\n",
      "\n",
      "c) There are 296 films with rating 5.0. So i can't chose one.\n",
      "Some from the list are below:\n",
      "\tThe Jinx: The Life and Deaths of Robert Durst ...\n",
      "\tGalaxy of Terror (Quest) (1981)\n",
      "\tAlien Contamination (1980)\n",
      "\tI'm the One That I Want (2000)\n",
      "\tLesson Faust (1994)\n",
      "\tAssignment, The (1997)\n",
      "\tMephisto (1981)\n",
      "\tBlack Mirror\n",
      "\tDylan Moran: Monster (2004)\n",
      "\tBill Hicks: Revelations (1993)\n"
     ]
    }
   ],
   "source": [
    "### c) Highest ranking\n",
    "sum_d = {}\n",
    "times_d = {}\n",
    "rating_d = {}\n",
    "for userId, movieId, rating, timestamp in ratings.itertuples(index=False):\n",
    "\tif movieId in sum_d:\n",
    "\t\tsum_d[movieId] += float(rating)\n",
    "\t\ttimes_d[movieId] += 1\n",
    "\telse:\n",
    "\t\tsum_d[movieId] = float(rating)\n",
    "\t\ttimes_d[movieId] = 1\n",
    "\n",
    "for k, v in sum_d.items():\n",
    "\trating_d[k] = float(sum_d[k] / times_d[k])\n",
    "    \n",
    "best_movies = []\n",
    "counter = 0\t\n",
    "sorted_x = sorted(rating_d.items(), key=operator.itemgetter(-1))\t\n",
    "for i in sorted_x:\n",
    "\tif i[1] == 5:\n",
    "\t\tbest_movies.append(i[0])\n",
    "\t\tcounter += 1\n",
    "\n",
    "print(f\"\\n\\n\\nc) There are {counter} films with rating 5.0. So i can't chose one.\\nSome from the list are below:\")\n",
    "for i in best_movies[:10]:\n",
    "\trec = movies.loc[movies['movieId'] == i]\n",
    "\ts = rec['title'].to_string()[4:]\n",
    "\ts = s.lstrip()\n",
    "\tprint(f'\\t{s}')"
   ]
  },
  {
   "cell_type": "code",
   "execution_count": 13,
   "id": "04bf1161-984c-41a1-8315-e7f66bb7d0e8",
   "metadata": {},
   "outputs": [
    {
     "name": "stdout",
     "output_type": "stream",
     "text": [
      "Because I am not sure what exactly mean 'd' point form task i have 3 options:\n",
      "\td.1) 5 users who rated movies most often:\n",
      "\t\tUser with id 414 rated 2698 movies.\n",
      "\t\tUser with id 599 rated 2478 movies.\n",
      "\t\tUser with id 474 rated 2108 movies.\n",
      "\t\tUser with id 448 rated 1864 movies.\n",
      "\t\tUser with id 274 rated 1346 movies.\n",
      "\td.2) 5 most popular rates for movies:\n",
      "\t\tRate 4.0 appears 26818 times.\n",
      "\t\tRate 3.0 appears 20047 times.\n",
      "\t\tRate 5.0 appears 13211 times.\n",
      "\t\tRate 3.5 appears 13136 times.\n",
      "\t\tRate 4.5 appears 8551 times.\n",
      "\td.3) 5 movies which were rated most often:\n",
      "\t\tMovie \"Forrest Gump (1994)\" was rated 329 times.\n",
      "\t\tMovie \"Shawshank Redemption, The (1994)\" was rated 317 times.\n",
      "\t\tMovie \"Pulp Fiction (1994)\" was rated 307 times.\n",
      "\t\tMovie \"Silence of the Lambs, The (1991)\" was rated 279 times.\n",
      "\t\tMovie \"Matrix, The (1999)\" was rated 278 times.\n"
     ]
    }
   ],
   "source": [
    "### d) ???\n",
    "### d.1) 5 users who rated movies most often ?\n",
    "### d.2) 5 most popular rates for movies ?\n",
    "### d.3) 5 movies which were rated most often ?\n",
    "d_1 = {}\n",
    "d_2 = {}\n",
    "d_3 = {}\n",
    "for userId, movieId, rating, timestamp in ratings.itertuples(index=False):\n",
    "\tif userId in d_1:\n",
    "\t\td_1[userId] += 1\n",
    "\telse:\n",
    "\t\td_1[userId] = 1\n",
    "\tif rating in d_2:\n",
    "\t\td_2[rating] += 1\n",
    "\telse:\n",
    "\t\td_2[rating] = 1\n",
    "\tif movieId in d_3:\n",
    "\t\td_3[movieId] += 1\n",
    "\telse:\n",
    "\t\td_3[movieId] = 1\n",
    "\n",
    "sorted_d1 = sorted(d_1.items(), key=operator.itemgetter(1))\t\n",
    "sorted_d2 = sorted(d_2.items(), key=operator.itemgetter(1))\t\n",
    "sorted_d3 = sorted(d_3.items(), key=operator.itemgetter(1))\t\n",
    "\n",
    "print(f\"Because I am not sure what exactly mean 'd' point form task i have 3 options:\")\n",
    "\n",
    "print(f\"\\td.1) 5 users who rated movies most often:\")\n",
    "for i in sorted_d1[ : (len(sorted_d1)-6) : -1]:\n",
    "\tprint(f\"\\t\\tUser with id {i[0]} rated {i[1]} movies.\")\n",
    "\n",
    "print(f\"\\td.2) 5 most popular rates for movies:\")\n",
    "for i in sorted_d2[ : (len(sorted_d2)-6) : -1]:\n",
    "\tprint(f\"\\t\\tRate {i[0]} appears {i[1]} times.\")\n",
    "\n",
    "print(f\"\\td.3) 5 movies which were rated most often:\")\n",
    "for i in sorted_d3[ : (len(sorted_d3)-6) : -1]:\n",
    "\tfor movieId, title, genres in movies.itertuples(index=False):\n",
    "\t\tif movieId == i[0]:\n",
    "\t\t\tm = movies.loc[movies['movieId'] == i[0]]\n",
    "\t\t\tm1 = m['title'].to_string()[4:]\n",
    "\t\t\tm1 = m1.lstrip()\n",
    "\n",
    "\t\t\tprint(f'\\t\\tMovie \"{m1}\" was rated {i[1]} times.')\n",
    "\t\t\tbreak"
   ]
  },
  {
   "cell_type": "code",
   "execution_count": 12,
   "id": "c4664fa8-6644-40ac-9ca6-69f25223dab5",
   "metadata": {},
   "outputs": [
    {
     "name": "stdout",
     "output_type": "stream",
     "text": [
      "e)First and last rate:\n",
      "\tFirst: 1996-03-29 19:36:55\n",
      "\tLast: 2018-09-24 16:27:30\n"
     ]
    }
   ],
   "source": [
    "### e) First and last rate\n",
    "first = 10000000000\n",
    "last = 0\n",
    "for t in ratings['timestamp']:\n",
    "\tif t > last:\n",
    "\t\tlast = t\n",
    "\telif t < first:\n",
    "\t\tfirst = t\n",
    "\n",
    "dt_first = datetime.fromtimestamp(first)\n",
    "dt_last = datetime.fromtimestamp(last)\n",
    "print(f'e)First and last rate:\\n\\tFirst: {dt_first}\\n\\tLast: {dt_last}')\n"
   ]
  },
  {
   "cell_type": "code",
   "execution_count": 14,
   "id": "6a12a5aa-d561-4b43-8fcf-8b492bc57d22",
   "metadata": {},
   "outputs": [
    {
     "name": "stdout",
     "output_type": "stream",
     "text": [
      "f) Toatal amount movies from 1990: 147, some from list:\n",
      "\tHome Alone (1990)\n",
      "\tGhost (1990)\n",
      "\tDances with Wolves (1990)\n",
      "\tPretty Woman (1990)\n",
      "\tDays of Thunder (1990)\n",
      "\tGrifters, The (1990)\n",
      "\tTie Me Up! Tie Me Down! (¡Átame!) (1990)\n",
      "\tParis Is Burning (1990)\n",
      "\tGoodfellas (1990)\n",
      "\tTrust (1990)\n"
     ]
    }
   ],
   "source": [
    "### f) all movies from 1990\n",
    "movies_form_1990 = []\n",
    "for name in movies['title']:\n",
    "\tif name.endswith('(1990)'):\n",
    "\t\tmovies_form_1990.append(name)\n",
    "\n",
    "print(f'f) Toatal amount movies from 1990: {len(movies_form_1990)}, some from list:')\n",
    "for f in movies_form_1990[:10]:\n",
    "\tprint(f'\\t{f}')"
   ]
  },
  {
   "cell_type": "code",
   "execution_count": null,
   "id": "be616b99-7b4a-47f1-b71b-ab5333b6bf07",
   "metadata": {},
   "outputs": [],
   "source": []
  }
 ],
 "metadata": {
  "kernelspec": {
   "display_name": "Python 3 (ipykernel)",
   "language": "python",
   "name": "python3"
  },
  "language_info": {
   "codemirror_mode": {
    "name": "ipython",
    "version": 3
   },
   "file_extension": ".py",
   "mimetype": "text/x-python",
   "name": "python",
   "nbconvert_exporter": "python",
   "pygments_lexer": "ipython3",
   "version": "3.9.0"
  },
  "toc-autonumbering": true
 },
 "nbformat": 4,
 "nbformat_minor": 5
}
